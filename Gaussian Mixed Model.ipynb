{
 "cells": [
  {
   "cell_type": "code",
   "execution_count": 1,
   "id": "48deb1d9",
   "metadata": {},
   "outputs": [],
   "source": [
    "import pandas as pd\n",
    "import seaborn as sns\n",
    "from sklearn.mixture import GaussianMixture\n",
    "from sklearn.preprocessing import StandardScaler"
   ]
  },
  {
   "cell_type": "code",
   "execution_count": 2,
   "id": "4781b660",
   "metadata": {},
   "outputs": [],
   "source": [
    "cp = pd.read_csv('Taco Bell/customer_profiles.csv')\n",
    "ad = pd.read_csv('Taco Bell/ad_details.csv')\n",
    "ae = pd.read_csv('Taco Bell/ad_events.csv')"
   ]
  },
  {
   "cell_type": "code",
   "execution_count": 3,
   "id": "0410a740",
   "metadata": {},
   "outputs": [],
   "source": [
    "cp['gender'] = cp['gender'].replace({'M': 0, 'F': 1, 'O': 2})\n",
    "cp = cp.drop('id', axis=1)\n",
    "cp['ever_married'] = cp['ever_married'].replace({'Yes': 1, 'No': 0})\n",
    "cp = cp.drop('home_state', axis=1)\n",
    "cp = cp.drop('became_member_on (year month day)', axis=1)\n",
    "\n",
    "scaler = StandardScaler()\n",
    "scaled_array = scaler.fit_transform(cp)\n",
    "df = pd.DataFrame(scaled_array)\n",
    "\n",
    "from sklearn.model_selection import train_test_split\n",
    "df_train, df_test = train_test_split(df, test_size=0.33, random_state=42)"
   ]
  },
  {
   "cell_type": "code",
   "execution_count": 4,
   "id": "86eaeea9",
   "metadata": {},
   "outputs": [],
   "source": [
    "bics = []\n",
    "for i in range(2,20):\n",
    "    gmo = GaussianMixture(n_components=i)\n",
    "    gm = gmo.fit(df_train)\n",
    "    bic = gm.bic(df_test)\n",
    "    bics.append(bic)"
   ]
  },
  {
   "cell_type": "code",
   "execution_count": 5,
   "id": "0011c059",
   "metadata": {},
   "outputs": [
    {
     "name": "stdout",
     "output_type": "stream",
     "text": [
      "[3496.177428874424, 3674.568580481198, -35371.11787595774, -43117.812672008426, -35158.026806195114, -61552.16191554509, -60077.35568474767, -66204.59814211803, -70255.12576593367, -61472.557486731916, -75260.83678722002, -65606.50005011185, -73915.8249272485, -68253.75744398277, -83350.71324404511, -69274.3672466747, -69142.37726473557, -73191.36567250873]\n"
     ]
    }
   ],
   "source": [
    "print(bics)"
   ]
  },
  {
   "cell_type": "code",
   "execution_count": 6,
   "id": "7b076b4e",
   "metadata": {},
   "outputs": [
    {
     "data": {
      "text/html": [
       "<div>\n",
       "<style scoped>\n",
       "    .dataframe tbody tr th:only-of-type {\n",
       "        vertical-align: middle;\n",
       "    }\n",
       "\n",
       "    .dataframe tbody tr th {\n",
       "        vertical-align: top;\n",
       "    }\n",
       "\n",
       "    .dataframe thead th {\n",
       "        text-align: right;\n",
       "    }\n",
       "</style>\n",
       "<table border=\"1\" class=\"dataframe\">\n",
       "  <thead>\n",
       "    <tr style=\"text-align: right;\">\n",
       "      <th></th>\n",
       "      <th>Clusters</th>\n",
       "      <th>BIC</th>\n",
       "    </tr>\n",
       "  </thead>\n",
       "  <tbody>\n",
       "    <tr>\n",
       "      <th>0</th>\n",
       "      <td>2</td>\n",
       "      <td>3496.177429</td>\n",
       "    </tr>\n",
       "    <tr>\n",
       "      <th>1</th>\n",
       "      <td>3</td>\n",
       "      <td>3674.568580</td>\n",
       "    </tr>\n",
       "    <tr>\n",
       "      <th>2</th>\n",
       "      <td>4</td>\n",
       "      <td>-35371.117876</td>\n",
       "    </tr>\n",
       "    <tr>\n",
       "      <th>3</th>\n",
       "      <td>5</td>\n",
       "      <td>-43117.812672</td>\n",
       "    </tr>\n",
       "    <tr>\n",
       "      <th>4</th>\n",
       "      <td>6</td>\n",
       "      <td>-35158.026806</td>\n",
       "    </tr>\n",
       "  </tbody>\n",
       "</table>\n",
       "</div>"
      ],
      "text/plain": [
       "   Clusters           BIC\n",
       "0         2   3496.177429\n",
       "1         3   3674.568580\n",
       "2         4 -35371.117876\n",
       "3         5 -43117.812672\n",
       "4         6 -35158.026806"
      ]
     },
     "execution_count": 6,
     "metadata": {},
     "output_type": "execute_result"
    }
   ],
   "source": [
    "frame = pd.DataFrame({'Clusters': range(2, 20), \"BIC\": bics})\n",
    "frame.head()"
   ]
  },
  {
   "cell_type": "code",
   "execution_count": 7,
   "id": "c5522ad3",
   "metadata": {},
   "outputs": [
    {
     "data": {
      "text/plain": [
       "<AxesSubplot:xlabel='Clusters', ylabel='BIC'>"
      ]
     },
     "execution_count": 7,
     "metadata": {},
     "output_type": "execute_result"
    },
    {
     "data": {
      "image/png": "[encoded data removed]",
      "text/plain": [
       "<Figure size 640x480 with 1 Axes>"
      ]
     },
     "metadata": {},
     "output_type": "display_data"
    }
   ],
   "source": [
    "sns.lineplot(data=frame, x=\"Clusters\", y=\"BIC\")"
   ]
  },
  {
   "cell_type": "code",
   "execution_count": 8,
   "id": "92c9796a",
   "metadata": {},
   "outputs": [
    {
     "name": "stdout",
     "output_type": "stream",
     "text": [
      "14\n"
     ]
    }
   ],
   "source": [
    "min_bic_value = frame['BIC'].idxmin()\n",
    "print(min_bic_value)"
   ]
  },
  {
   "cell_type": "code",
   "execution_count": 9,
   "id": "426657d2",
   "metadata": {},
   "outputs": [],
   "source": [
    "gm = GaussianMixture(n_components=3, random_state=0).fit(df_train)"
   ]
  },
  {
   "cell_type": "code",
   "execution_count": 10,
   "id": "12824b6a",
   "metadata": {},
   "outputs": [
    {
     "data": {
      "text/plain": [
       "array([[ 1.06355702e+00,  1.82426481e-01,  2.63181275e-01,\n",
       "        -8.06809926e-04,  2.46641340e-02],\n",
       "       [-8.42539791e-01, -1.36116100e-01, -2.04966230e-01,\n",
       "        -3.49504163e-03, -2.29386197e-02],\n",
       "       [ 2.96965383e+00, -1.03985075e-02, -1.35983184e-01,\n",
       "         5.78173320e-02, -1.93111366e-03]])"
      ]
     },
     "execution_count": 10,
     "metadata": {},
     "output_type": "execute_result"
    }
   ],
   "source": [
    "gm.means_"
   ]
  },
  {
   "cell_type": "code",
   "execution_count": 11,
   "id": "86de3710",
   "metadata": {},
   "outputs": [],
   "source": [
    "predictions = gm.predict(df_test)"
   ]
  },
  {
   "cell_type": "code",
   "execution_count": 12,
   "id": "2a479ecb",
   "metadata": {},
   "outputs": [],
   "source": [
    "unscaled_array = scaler.inverse_transform(df_test)"
   ]
  },
  {
   "cell_type": "code",
   "execution_count": 13,
   "id": "2375c2ef",
   "metadata": {},
   "outputs": [],
   "source": [
    "df = pd.DataFrame(unscaled_array)"
   ]
  },
  {
   "cell_type": "code",
   "execution_count": 14,
   "id": "aaf79fc9",
   "metadata": {},
   "outputs": [],
   "source": [
    "df.insert(5, \"Predict\", predictions, True)"
   ]
  },
  {
   "cell_type": "code",
   "execution_count": 15,
   "id": "87b1edd8",
   "metadata": {},
   "outputs": [
    {
     "data": {
      "text/html": [
       "<div>\n",
       "<style scoped>\n",
       "    .dataframe tbody tr th:only-of-type {\n",
       "        vertical-align: middle;\n",
       "    }\n",
       "\n",
       "    .dataframe tbody tr th {\n",
       "        vertical-align: top;\n",
       "    }\n",
       "\n",
       "    .dataframe thead th {\n",
       "        text-align: right;\n",
       "    }\n",
       "</style>\n",
       "<table border=\"1\" class=\"dataframe\">\n",
       "  <thead>\n",
       "    <tr style=\"text-align: right;\">\n",
       "      <th></th>\n",
       "      <th>0</th>\n",
       "      <th>1</th>\n",
       "      <th>2</th>\n",
       "      <th>3</th>\n",
       "      <th>4</th>\n",
       "      <th>Predict</th>\n",
       "    </tr>\n",
       "  </thead>\n",
       "  <tbody>\n",
       "    <tr>\n",
       "      <th>0</th>\n",
       "      <td>1.0</td>\n",
       "      <td>52.0</td>\n",
       "      <td>79000.0</td>\n",
       "      <td>1.0</td>\n",
       "      <td>2.0</td>\n",
       "      <td>0</td>\n",
       "    </tr>\n",
       "    <tr>\n",
       "      <th>1</th>\n",
       "      <td>1.0</td>\n",
       "      <td>89.0</td>\n",
       "      <td>39000.0</td>\n",
       "      <td>1.0</td>\n",
       "      <td>2.0</td>\n",
       "      <td>0</td>\n",
       "    </tr>\n",
       "    <tr>\n",
       "      <th>2</th>\n",
       "      <td>1.0</td>\n",
       "      <td>18.0</td>\n",
       "      <td>43000.0</td>\n",
       "      <td>0.0</td>\n",
       "      <td>2.0</td>\n",
       "      <td>0</td>\n",
       "    </tr>\n",
       "    <tr>\n",
       "      <th>3</th>\n",
       "      <td>0.0</td>\n",
       "      <td>81.0</td>\n",
       "      <td>76000.0</td>\n",
       "      <td>1.0</td>\n",
       "      <td>2.0</td>\n",
       "      <td>1</td>\n",
       "    </tr>\n",
       "    <tr>\n",
       "      <th>4</th>\n",
       "      <td>0.0</td>\n",
       "      <td>42.0</td>\n",
       "      <td>84000.0</td>\n",
       "      <td>0.0</td>\n",
       "      <td>3.0</td>\n",
       "      <td>1</td>\n",
       "    </tr>\n",
       "  </tbody>\n",
       "</table>\n",
       "</div>"
      ],
      "text/plain": [
       "     0     1        2    3    4  Predict\n",
       "0  1.0  52.0  79000.0  1.0  2.0        0\n",
       "1  1.0  89.0  39000.0  1.0  2.0        0\n",
       "2  1.0  18.0  43000.0  0.0  2.0        0\n",
       "3  0.0  81.0  76000.0  1.0  2.0        1\n",
       "4  0.0  42.0  84000.0  0.0  3.0        1"
      ]
     },
     "execution_count": 15,
     "metadata": {},
     "output_type": "execute_result"
    }
   ],
   "source": [
    "df.head()"
   ]
  },
  {
   "cell_type": "code",
   "execution_count": 16,
   "id": "fa37b605",
   "metadata": {},
   "outputs": [
    {
     "name": "stdout",
     "output_type": "stream",
     "text": [
      "<class 'pandas.core.frame.DataFrame'>\n",
      "RangeIndex: 14825 entries, 0 to 14824\n",
      "Data columns (total 5 columns):\n",
      " #   Column        Non-Null Count  Dtype  \n",
      "---  ------        --------------  -----  \n",
      " 0   gender        14825 non-null  int64  \n",
      " 1   age           14825 non-null  int64  \n",
      " 2   income        14825 non-null  float64\n",
      " 3   ever_married  14825 non-null  int64  \n",
      " 4   kids          14825 non-null  int64  \n",
      "dtypes: float64(1), int64(4)\n",
      "memory usage: 579.2 KB\n"
     ]
    }
   ],
   "source": [
    "cp.info()"
   ]
  },
  {
   "cell_type": "code",
   "execution_count": 17,
   "id": "ac93ed94",
   "metadata": {
    "scrolled": false
   },
   "outputs": [
    {
     "data": {
      "text/plain": [
       "<AxesSubplot:xlabel='2', ylabel='0'>"
      ]
     },
     "execution_count": 17,
     "metadata": {},
     "output_type": "execute_result"
    },
    {
     "data": {
      "image/png": "[encoded data removed]",
      "text/plain": [
       "<Figure size 640x480 with 1 Axes>"
      ]
     },
     "metadata": {},
     "output_type": "display_data"
    }
   ],
   "source": [
    "sns.scatterplot(data = df, y = 0, x = 2, hue = \"Predict\")"
   ]
  },
  {
   "cell_type": "code",
   "execution_count": 18,
   "id": "7badedf5",
   "metadata": {},
   "outputs": [
    {
     "data": {
      "text/html": [
       "<div>\n",
       "<style scoped>\n",
       "    .dataframe tbody tr th:only-of-type {\n",
       "        vertical-align: middle;\n",
       "    }\n",
       "\n",
       "    .dataframe tbody tr th {\n",
       "        vertical-align: top;\n",
       "    }\n",
       "\n",
       "    .dataframe thead th {\n",
       "        text-align: right;\n",
       "    }\n",
       "</style>\n",
       "<table border=\"1\" class=\"dataframe\">\n",
       "  <thead>\n",
       "    <tr style=\"text-align: right;\">\n",
       "      <th></th>\n",
       "      <th>0</th>\n",
       "      <th>1</th>\n",
       "      <th>2</th>\n",
       "      <th>3</th>\n",
       "      <th>4</th>\n",
       "      <th>Predict</th>\n",
       "    </tr>\n",
       "  </thead>\n",
       "  <tbody>\n",
       "    <tr>\n",
       "      <th>0</th>\n",
       "      <td>1.000000</td>\n",
       "      <td>0.137257</td>\n",
       "      <td>0.209319</td>\n",
       "      <td>-0.006763</td>\n",
       "      <td>-0.015167</td>\n",
       "      <td>-0.763926</td>\n",
       "    </tr>\n",
       "    <tr>\n",
       "      <th>1</th>\n",
       "      <td>0.137257</td>\n",
       "      <td>1.000000</td>\n",
       "      <td>0.318727</td>\n",
       "      <td>0.001415</td>\n",
       "      <td>-0.003383</td>\n",
       "      <td>-0.137629</td>\n",
       "    </tr>\n",
       "    <tr>\n",
       "      <th>2</th>\n",
       "      <td>0.209319</td>\n",
       "      <td>0.318727</td>\n",
       "      <td>1.000000</td>\n",
       "      <td>0.001846</td>\n",
       "      <td>-0.021080</td>\n",
       "      <td>-0.215628</td>\n",
       "    </tr>\n",
       "    <tr>\n",
       "      <th>3</th>\n",
       "      <td>-0.006763</td>\n",
       "      <td>0.001415</td>\n",
       "      <td>0.001846</td>\n",
       "      <td>1.000000</td>\n",
       "      <td>-0.007622</td>\n",
       "      <td>0.013154</td>\n",
       "    </tr>\n",
       "    <tr>\n",
       "      <th>4</th>\n",
       "      <td>-0.015167</td>\n",
       "      <td>-0.003383</td>\n",
       "      <td>-0.021080</td>\n",
       "      <td>-0.007622</td>\n",
       "      <td>1.000000</td>\n",
       "      <td>0.005214</td>\n",
       "    </tr>\n",
       "    <tr>\n",
       "      <th>Predict</th>\n",
       "      <td>-0.763926</td>\n",
       "      <td>-0.137629</td>\n",
       "      <td>-0.215628</td>\n",
       "      <td>0.013154</td>\n",
       "      <td>0.005214</td>\n",
       "      <td>1.000000</td>\n",
       "    </tr>\n",
       "  </tbody>\n",
       "</table>\n",
       "</div>"
      ],
      "text/plain": [
       "                0         1         2         3         4   Predict\n",
       "0        1.000000  0.137257  0.209319 -0.006763 -0.015167 -0.763926\n",
       "1        0.137257  1.000000  0.318727  0.001415 -0.003383 -0.137629\n",
       "2        0.209319  0.318727  1.000000  0.001846 -0.021080 -0.215628\n",
       "3       -0.006763  0.001415  0.001846  1.000000 -0.007622  0.013154\n",
       "4       -0.015167 -0.003383 -0.021080 -0.007622  1.000000  0.005214\n",
       "Predict -0.763926 -0.137629 -0.215628  0.013154  0.005214  1.000000"
      ]
     },
     "execution_count": 18,
     "metadata": {},
     "output_type": "execute_result"
    }
   ],
   "source": [
    "df.corr()"
   ]
  },
  {
   "cell_type": "code",
   "execution_count": 19,
   "id": "80510dd6",
   "metadata": {},
   "outputs": [
    {
     "data": {
      "text/html": [
       "<div>\n",
       "<style scoped>\n",
       "    .dataframe tbody tr th:only-of-type {\n",
       "        vertical-align: middle;\n",
       "    }\n",
       "\n",
       "    .dataframe tbody tr th {\n",
       "        vertical-align: top;\n",
       "    }\n",
       "\n",
       "    .dataframe thead th {\n",
       "        text-align: right;\n",
       "    }\n",
       "</style>\n",
       "<table border=\"1\" class=\"dataframe\">\n",
       "  <thead>\n",
       "    <tr style=\"text-align: right;\">\n",
       "      <th></th>\n",
       "      <th>0</th>\n",
       "      <th>1</th>\n",
       "      <th>2</th>\n",
       "      <th>3</th>\n",
       "      <th>4</th>\n",
       "    </tr>\n",
       "  </thead>\n",
       "  <tbody>\n",
       "    <tr>\n",
       "      <th>0</th>\n",
       "      <td>1.0</td>\n",
       "      <td>57.564666</td>\n",
       "      <td>71089.067838</td>\n",
       "      <td>0.523914</td>\n",
       "      <td>1.727184</td>\n",
       "    </tr>\n",
       "    <tr>\n",
       "      <th>1</th>\n",
       "      <td>0.0</td>\n",
       "      <td>52.027402</td>\n",
       "      <td>60978.218865</td>\n",
       "      <td>0.522572</td>\n",
       "      <td>1.656947</td>\n",
       "    </tr>\n",
       "    <tr>\n",
       "      <th>2</th>\n",
       "      <td>2.0</td>\n",
       "      <td>54.212766</td>\n",
       "      <td>62468.085106</td>\n",
       "      <td>0.553191</td>\n",
       "      <td>1.687943</td>\n",
       "    </tr>\n",
       "  </tbody>\n",
       "</table>\n",
       "</div>"
      ],
      "text/plain": [
       "     0          1             2         3         4\n",
       "0  1.0  57.564666  71089.067838  0.523914  1.727184\n",
       "1  0.0  52.027402  60978.218865  0.522572  1.656947\n",
       "2  2.0  54.212766  62468.085106  0.553191  1.687943"
      ]
     },
     "execution_count": 19,
     "metadata": {},
     "output_type": "execute_result"
    }
   ],
   "source": [
    "var = scaler.inverse_transform(gm.means_)\n",
    "meansDF = pd.DataFrame(var)\n",
    "meansDF.head()"
   ]
  },
  {
   "cell_type": "code",
   "execution_count": 20,
   "id": "abc3dc42",
   "metadata": {},
   "outputs": [
    {
     "data": {
      "text/plain": [
       "<AxesSubplot:xlabel='1', ylabel='0'>"
      ]
     },
     "execution_count": 20,
     "metadata": {},
     "output_type": "execute_result"
    },
    {
     "data": {
      "image/png": "[encoded data removed]",
      "text/plain": [
       "<Figure size 640x480 with 1 Axes>"
      ]
     },
     "metadata": {},
     "output_type": "display_data"
    }
   ],
   "source": [
    "sns.scatterplot(data = meansDF, y = 0, x = 1)"
   ]
  },
  {
   "cell_type": "code",
   "execution_count": null,
   "id": "3f96e94a",
   "metadata": {},
   "outputs": [],
   "source": []
  }
 ],
 "metadata": {
  "kernelspec": {
   "display_name": "Python 3 (ipykernel)",
   "language": "python",
   "name": "python3"
  },
  "language_info": {
   "codemirror_mode": {
    "name": "ipython",
    "version": 3
   },
   "file_extension": ".py",
   "mimetype": "text/x-python",
   "name": "python",
   "nbconvert_exporter": "python",
   "pygments_lexer": "ipython3",
   "version": "3.9.13"
  }
 },
 "nbformat": 4,
 "nbformat_minor": 5
}
